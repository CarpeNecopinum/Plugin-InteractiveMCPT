{
 "metadata": {
  "name": "",
  "signature": "sha256:6020d7f0f78bd687e72f841203df5a1e553f1ee1ff0ae7df97093c61190eb25a"
 },
 "nbformat": 3,
 "nbformat_minor": 0,
 "worksheets": []
}